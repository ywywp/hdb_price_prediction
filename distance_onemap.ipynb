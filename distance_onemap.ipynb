{
 "cells": [
  {
   "cell_type": "code",
   "execution_count": 1,
   "id": "414eadbe",
   "metadata": {},
   "outputs": [],
   "source": [
    "import json\n",
    "import requests\n",
    "import pandas as pd\n",
    "import pprint\n",
    "import pyodbc\n",
    "import datetime"
   ]
  },
  {
   "cell_type": "code",
   "execution_count": 2,
   "id": "5b516ee5",
   "metadata": {},
   "outputs": [],
   "source": [
    "hdb_geoloc = pd.read_csv('location.csv')\n",
    "raffles_geoloc = pd.read_csv('raffles_geoloc.csv')"
   ]
  },
  {
   "cell_type": "code",
   "execution_count": 11,
   "id": "267e37c6",
   "metadata": {},
   "outputs": [],
   "source": [
    "from geopy.distance import geodesic\n",
    "\n",
    "def find_nearest(add_lat_lon_start,add_lat_lon_end):\n",
    "\n",
    "    results = {}\n",
    "    # first column must be address\n",
    "    for index,flat in enumerate(add_lat_lon_start.iloc[:,0]):\n",
    "        \n",
    "        # 2nd column must be latitude, 3rd column must be longitude\n",
    "        flat_loc = (add_lat_lon_start.iloc[index,1],add_lat_lon_start.iloc[index,2])\n",
    "        distance_cbd = ['','',100]\n",
    "        for ind, cbd in enumerate(add_lat_lon_end.iloc[:,0]):\n",
    "            cbd_loc = (add_lat_lon_end.iloc[ind,1],add_lat_lon_end.iloc[ind,2])\n",
    "            distance = geodesic(flat_loc,cbd_loc)\n",
    "\n",
    "            if distance < distance_cbd[2]:\n",
    "                distance_cbd[0] = flat\n",
    "                distance_cbd[1] = cbd\n",
    "                distance_cbd[2] = distance\n",
    "\n",
    "        results[flat] = distance_cbd\n",
    "    return results \n",
    "\n",
    "distance_cbd = pd.DataFrame(find_nearest(hdb_geoloc, raffles_geoloc)).transpose()\n",
    "distance_cbd.to_csv('distance_cbd.csv')"
   ]
  },
  {
   "cell_type": "code",
   "execution_count": null,
   "id": "2fa81d38",
   "metadata": {},
   "outputs": [],
   "source": []
  }
 ],
 "metadata": {
  "kernelspec": {
   "display_name": "Python 3 (ipykernel)",
   "language": "python",
   "name": "python3"
  },
  "language_info": {
   "codemirror_mode": {
    "name": "ipython",
    "version": 3
   },
   "file_extension": ".py",
   "mimetype": "text/x-python",
   "name": "python",
   "nbconvert_exporter": "python",
   "pygments_lexer": "ipython3",
   "version": "3.8.8"
  }
 },
 "nbformat": 4,
 "nbformat_minor": 5
}
